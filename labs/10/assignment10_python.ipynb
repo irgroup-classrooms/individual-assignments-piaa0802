{
 "cells": [
  {
   "cell_type": "code",
   "execution_count": 10,
   "metadata": {},
   "outputs": [
    {
     "name": "stdout",
     "output_type": "stream",
     "text": [
      "         #                     Name           Type Total   HP Attack Defense  \\\n",
      "0     0001                Bulbasaur   Grass Poison   318   45     49      49   \n",
      "1     0002                  Ivysaur   Grass Poison   405   60     62      63   \n",
      "2     0003                 Venusaur   Grass Poison   525   80     82      83   \n",
      "3     0003   Venusaur Mega Venusaur   Grass Poison   625   80    100     123   \n",
      "4     0004               Charmander           Fire   309   39     52      43   \n",
      "...    ...                      ...            ...   ...  ...    ...     ...   \n",
      "1210  1023               Iron Crown  Steel Psychic   590   90     72     100   \n",
      "1211  1024    Terapagos Normal Form         Normal   450   90     65      85   \n",
      "1212  1024  Terapagos Terastal Form         Normal   600   95     95     110   \n",
      "1213  1024   Terapagos Stellar Form         Normal   700  160    105     110   \n",
      "1214  1025                Pecharunt   Poison Ghost   600   88     88     160   \n",
      "\n",
      "     Sp. Atk Sp. Def Speed                                             Sprite  \n",
      "0         65      65    45  https:https://img.pokemondb.net/sprites/scarle...  \n",
      "1         80      80    60  https:https://img.pokemondb.net/sprites/scarle...  \n",
      "2        100     100    80  https:https://img.pokemondb.net/sprites/scarle...  \n",
      "3        122     120    80  https:https://img.pokemondb.net/sprites/scarle...  \n",
      "4         60      50    65  https:https://img.pokemondb.net/sprites/scarle...  \n",
      "...      ...     ...   ...                                                ...  \n",
      "1210     122     108    98  https:https://img.pokemondb.net/sprites/scarle...  \n",
      "1211      65      85    60  https:https://img.pokemondb.net/sprites/scarle...  \n",
      "1212     105     110    85  https:https://img.pokemondb.net/sprites/scarle...  \n",
      "1213     130     110    85  https:https://img.pokemondb.net/sprites/scarle...  \n",
      "1214      88      88    88  https:https://img.pokemondb.net/sprites/scarle...  \n",
      "\n",
      "[1215 rows x 11 columns]\n"
     ]
    },
    {
     "data": {
      "text/html": [
       "<img src=\"https:https://img.pokemondb.net/sprites/scarlet-violet/icon/bulbasaur.png\"/>"
      ],
      "text/plain": [
       "<IPython.core.display.Image object>"
      ]
     },
     "metadata": {},
     "output_type": "display_data"
    },
    {
     "data": {
      "text/html": [
       "<img src=\"https:https://img.pokemondb.net/sprites/scarlet-violet/icon/ivysaur.png\"/>"
      ],
      "text/plain": [
       "<IPython.core.display.Image object>"
      ]
     },
     "metadata": {},
     "output_type": "display_data"
    },
    {
     "data": {
      "text/html": [
       "<img src=\"https:https://img.pokemondb.net/sprites/scarlet-violet/icon/venusaur.png\"/>"
      ],
      "text/plain": [
       "<IPython.core.display.Image object>"
      ]
     },
     "metadata": {},
     "output_type": "display_data"
    },
    {
     "data": {
      "text/html": [
       "<img src=\"https:https://img.pokemondb.net/sprites/scarlet-violet/icon/venusaur-mega.png\"/>"
      ],
      "text/plain": [
       "<IPython.core.display.Image object>"
      ]
     },
     "metadata": {},
     "output_type": "display_data"
    },
    {
     "data": {
      "text/html": [
       "<img src=\"https:https://img.pokemondb.net/sprites/scarlet-violet/icon/charmander.png\"/>"
      ],
      "text/plain": [
       "<IPython.core.display.Image object>"
      ]
     },
     "metadata": {},
     "output_type": "display_data"
    },
    {
     "name": "stdout",
     "output_type": "stream",
     "text": [
      "Strongest Pokémon of Each Type:\n",
      "        Type         Strongest Pokémon  Total\n",
      "0      Grass    Sceptile Mega Sceptile    630\n",
      "1       Fire    Groudon Primal Groudon    770\n",
      "2      Water      Kyogre Primal Kyogre    770\n",
      "3        Bug                  Genesect    600\n",
      "4     Normal                    Arceus    720\n",
      "5       Dark  Tyranitar Mega Tyranitar    700\n",
      "6     Poison       Eternatus Eternamax   1125\n",
      "7   Electric                    Zekrom    680\n",
      "8     Ground    Groudon Primal Groudon    770\n",
      "9        Ice       Kyurem White Kyurem    700\n",
      "10     Fairy      Zacian Crowned Sword    700\n",
      "11     Steel  Metagross Mega Metagross    700\n",
      "12  Fighting      Mewtwo Mega Mewtwo X    780\n",
      "13   Psychic      Mewtwo Mega Mewtwo Y    780\n",
      "14      Rock      Diancie Mega Diancie    700\n",
      "15     Ghost     Giratina Origin Forme    680\n",
      "16    Dragon       Eternatus Eternamax   1125\n",
      "17    Flying    Rayquaza Mega Rayquaza    780\n",
      "\n",
      "Best Attackers:\n",
      "                         Name  Attack   Type 1    Type 2\n",
      "201      Mewtwo Mega Mewtwo X     190  Psychic  Fighting\n",
      "274  Heracross Mega Heracross     185      Bug  Fighting\n",
      "956                   Kartana     181    Grass     Steel\n",
      "475    Rayquaza Mega Rayquaza     180   Dragon    Flying\n",
      "478       Deoxys Attack Forme     180  Psychic       NaN\n",
      "473    Groudon Primal Groudon     180   Ground      Fire\n",
      "545    Garchomp Mega Garchomp     170   Dragon    Ground\n",
      "777       Kyurem Black Kyurem     170   Dragon       Ice\n",
      "961   Necrozma Ultra Necrozma     167  Psychic    Dragon\n",
      "578      Gallade Mega Gallade     165  Psychic  Fighting\n"
     ]
    }
   ],
   "source": [
    "import requests\n",
    "import pandas as pd\n",
    "from bs4 import BeautifulSoup\n",
    "from IPython.display import Image, display\n",
    "\n",
    "# URL der Seite mit der Pokémon-Tabelle\n",
    "url = 'https://pokemondb.net/pokedex/all'\n",
    "\n",
    "# Senden einer GET-Anfrage an die Webseite\n",
    "response = requests.get(url)\n",
    "\n",
    "# BeautifulSoup-Objekt zur Analyse des HTML\n",
    "soup = BeautifulSoup(response.text, 'html.parser')\n",
    "\n",
    "# Finden der Tabelle mit Pokémon-Daten\n",
    "table = soup.find('table', {'class': 'data-table'})\n",
    "\n",
    "# Extrahieren der Kopfzeile der Tabelle\n",
    "headers = [th.text.strip() for th in table.find_all('th')]\n",
    "\n",
    "# Extrahieren der Zeilen der Tabelle\n",
    "rows = []\n",
    "sprite_urls = []\n",
    "for tr in table.find_all('tr')[1:]:  # überspringe die Kopfzeile\n",
    "    cols = tr.find_all('td')\n",
    "    row = [col.text.strip() for col in cols]\n",
    "    rows.append(row)\n",
    "    \n",
    "    # Finden des Sprite-Links für jedes Pokémon (das Bild ist im ersten td-Tag enthalten)\n",
    "    sprite_tag = cols[0].find('img')\n",
    "    if sprite_tag:\n",
    "        sprite_url = sprite_tag['src']\n",
    "        sprite_urls.append(f\"https:{sprite_url}\")\n",
    "    else:\n",
    "        sprite_urls.append(None)\n",
    "\n",
    "# Erstellen eines Pandas DataFrames aus den extrahierten Daten\n",
    "pokemon_df = pd.DataFrame(rows, columns=headers)\n",
    "\n",
    "# Hinzufügen der Sprite-URLs zum DataFrame\n",
    "pokemon_df['Sprite'] = sprite_urls\n",
    "\n",
    "# Anzeigen des DataFrames\n",
    "print(pokemon_df)\n",
    "\n",
    "# Anzeigen der Sprites direkt im Notebook\n",
    "for sprite_url in sprite_urls[:5]:  # Anzeigen der ersten 5 Pokémon-Sprites\n",
    "    if sprite_url:\n",
    "        display(Image(url=sprite_url))\n",
    "\n",
    "# Datentypen konvertieren\n",
    "numeric_cols = ['#', 'Total', 'HP', 'Attack', 'Defense', 'Sp. Atk', 'Sp. Def', 'Speed']\n",
    "pokemon_df[numeric_cols] = pokemon_df[numeric_cols].apply(pd.to_numeric)\n",
    "\n",
    "# Aufteilen der Typen\n",
    "pokemon_df['Type 1'] = pokemon_df['Type'].str.split().str[0]\n",
    "pokemon_df['Type 2'] = pokemon_df['Type'].str.split().str[1]\n",
    "\n",
    "# 1. Stärkstes Pokémon für jeden Typ\n",
    "def get_strongest_per_type(df):\n",
    "    types = pd.concat([df['Type 1'], df['Type 2']]).dropna().unique()\n",
    "    strongest = []\n",
    "    for t in types:\n",
    "        strongest_pokemon = df[(df['Type 1'] == t) | (df['Type 2'] == t)].sort_values('Total', ascending=False).iloc[0]\n",
    "        strongest.append((t, strongest_pokemon['Name'], strongest_pokemon['Total']))\n",
    "    return pd.DataFrame(strongest, columns=['Type', 'Strongest Pokémon', 'Total'])\n",
    "\n",
    "strongest_pokemon_per_type = get_strongest_per_type(pokemon_df)\n",
    "print(\"Strongest Pokémon of Each Type:\")\n",
    "print(strongest_pokemon_per_type)\n",
    "\n",
    "# 2. Beste Angreifer\n",
    "best_attackers = pokemon_df.sort_values('Attack', ascending=False).head(10)\n",
    "print(\"\\nBest Attackers:\")\n",
    "print(best_attackers[['Name', 'Attack', 'Type 1', 'Type 2']])\n"
   ]
  }
 ],
 "metadata": {
  "kernelspec": {
   "display_name": "base",
   "language": "python",
   "name": "python3"
  },
  "language_info": {
   "codemirror_mode": {
    "name": "ipython",
    "version": 3
   },
   "file_extension": ".py",
   "mimetype": "text/x-python",
   "name": "python",
   "nbconvert_exporter": "python",
   "pygments_lexer": "ipython3",
   "version": "3.11.7"
  }
 },
 "nbformat": 4,
 "nbformat_minor": 2
}
